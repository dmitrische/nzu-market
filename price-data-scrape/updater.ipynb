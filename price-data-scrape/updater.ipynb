{
 "cells": [
  {
   "cell_type": "markdown",
   "id": "61ff4dda",
   "metadata": {},
   "source": [
    "# Scraper updater\n",
    "\n",
    "Scrape just the report website and add recent prices to the raw data file if the prices are not already there."
   ]
  },
  {
   "cell_type": "code",
   "execution_count": 1,
   "id": "9a766790",
   "metadata": {},
   "outputs": [
    {
     "name": "stdout",
     "output_type": "stream",
     "text": [
      "Appended 0 rows.\n"
     ]
    }
   ],
   "source": [
    "from scraping_functions import update_data\n",
    "outcome = update_data('price_data.csv')\n",
    "print(outcome)"
   ]
  },
  {
   "cell_type": "code",
   "execution_count": 29,
   "id": "a7a2c6ea",
   "metadata": {},
   "outputs": [],
   "source": [
    "import pandas as pd\n",
    "df0 = pd.read_csv('price_data.csv', index_col='date', parse_dates=[0])"
   ]
  },
  {
   "cell_type": "code",
   "execution_count": 31,
   "id": "f3aaa302",
   "metadata": {},
   "outputs": [
    {
     "data": {
      "text/html": [
       "<div>\n",
       "<style scoped>\n",
       "    .dataframe tbody tr th:only-of-type {\n",
       "        vertical-align: middle;\n",
       "    }\n",
       "\n",
       "    .dataframe tbody tr th {\n",
       "        vertical-align: top;\n",
       "    }\n",
       "\n",
       "    .dataframe thead th {\n",
       "        text-align: right;\n",
       "    }\n",
       "</style>\n",
       "<table border=\"1\" class=\"dataframe\">\n",
       "  <thead>\n",
       "    <tr style=\"text-align: right;\">\n",
       "      <th></th>\n",
       "      <th>price</th>\n",
       "      <th>url</th>\n",
       "    </tr>\n",
       "    <tr>\n",
       "      <th>date</th>\n",
       "      <th></th>\n",
       "      <th></th>\n",
       "    </tr>\n",
       "  </thead>\n",
       "  <tbody>\n",
       "    <tr>\n",
       "      <th>2010-05-14</th>\n",
       "      <td>17.0</td>\n",
       "      <td>https://www.carbonnews.co.nz/story.asp?storyID...</td>\n",
       "    </tr>\n",
       "    <tr>\n",
       "      <th>2010-05-21</th>\n",
       "      <td>17.0</td>\n",
       "      <td>https://www.carbonnews.co.nz/story.asp?storyID...</td>\n",
       "    </tr>\n",
       "    <tr>\n",
       "      <th>2010-05-28</th>\n",
       "      <td>17.0</td>\n",
       "      <td>https://www.carbonnews.co.nz/story.asp?storyID...</td>\n",
       "    </tr>\n",
       "    <tr>\n",
       "      <th>2010-06-11</th>\n",
       "      <td>17.0</td>\n",
       "      <td>https://www.carbonnews.co.nz/story.asp?storyID...</td>\n",
       "    </tr>\n",
       "    <tr>\n",
       "      <th>2010-06-25</th>\n",
       "      <td>17.0</td>\n",
       "      <td>https://www.carbonnews.co.nz/story.asp?storyID...</td>\n",
       "    </tr>\n",
       "    <tr>\n",
       "      <th>...</th>\n",
       "      <td>...</td>\n",
       "      <td>...</td>\n",
       "    </tr>\n",
       "    <tr>\n",
       "      <th>2023-08-28</th>\n",
       "      <td>67.0</td>\n",
       "      <td>https://www.carbonnews.co.nz/story.asp?storyID...</td>\n",
       "    </tr>\n",
       "    <tr>\n",
       "      <th>2023-08-29</th>\n",
       "      <td>67.0</td>\n",
       "      <td>https://www.carbonnews.co.nz/story.asp?storyID...</td>\n",
       "    </tr>\n",
       "    <tr>\n",
       "      <th>2023-08-30</th>\n",
       "      <td>67.5</td>\n",
       "      <td>https://www.carbonnews.co.nz/story.asp?storyID...</td>\n",
       "    </tr>\n",
       "    <tr>\n",
       "      <th>2023-08-31</th>\n",
       "      <td>68.5</td>\n",
       "      <td>https://www.carbonnews.co.nz/story.asp?storyID...</td>\n",
       "    </tr>\n",
       "    <tr>\n",
       "      <th>2023-09-01</th>\n",
       "      <td>70.5</td>\n",
       "      <td>https://www.carbonnews.co.nz/story.asp?storyID...</td>\n",
       "    </tr>\n",
       "  </tbody>\n",
       "</table>\n",
       "<p>2152 rows × 2 columns</p>\n",
       "</div>"
      ],
      "text/plain": [
       "            price                                                url\n",
       "date                                                                \n",
       "2010-05-14   17.0  https://www.carbonnews.co.nz/story.asp?storyID...\n",
       "2010-05-21   17.0  https://www.carbonnews.co.nz/story.asp?storyID...\n",
       "2010-05-28   17.0  https://www.carbonnews.co.nz/story.asp?storyID...\n",
       "2010-06-11   17.0  https://www.carbonnews.co.nz/story.asp?storyID...\n",
       "2010-06-25   17.0  https://www.carbonnews.co.nz/story.asp?storyID...\n",
       "...           ...                                                ...\n",
       "2023-08-28   67.0  https://www.carbonnews.co.nz/story.asp?storyID...\n",
       "2023-08-29   67.0  https://www.carbonnews.co.nz/story.asp?storyID...\n",
       "2023-08-30   67.5  https://www.carbonnews.co.nz/story.asp?storyID...\n",
       "2023-08-31   68.5  https://www.carbonnews.co.nz/story.asp?storyID...\n",
       "2023-09-01   70.5  https://www.carbonnews.co.nz/story.asp?storyID...\n",
       "\n",
       "[2152 rows x 2 columns]"
      ]
     },
     "execution_count": 31,
     "metadata": {},
     "output_type": "execute_result"
    }
   ],
   "source": [
    "df0"
   ]
  },
  {
   "cell_type": "code",
   "execution_count": null,
   "id": "fa45344c",
   "metadata": {},
   "outputs": [],
   "source": []
  }
 ],
 "metadata": {
  "kernelspec": {
   "display_name": "Python 3 (ipykernel)",
   "language": "python",
   "name": "python3"
  },
  "language_info": {
   "codemirror_mode": {
    "name": "ipython",
    "version": 3
   },
   "file_extension": ".py",
   "mimetype": "text/x-python",
   "name": "python",
   "nbconvert_exporter": "python",
   "pygments_lexer": "ipython3",
   "version": "3.10.12"
  },
  "toc": {
   "base_numbering": 1,
   "nav_menu": {},
   "number_sections": true,
   "sideBar": true,
   "skip_h1_title": false,
   "title_cell": "Table of Contents",
   "title_sidebar": "Contents",
   "toc_cell": false,
   "toc_position": {},
   "toc_section_display": true,
   "toc_window_display": false
  }
 },
 "nbformat": 4,
 "nbformat_minor": 5
}
