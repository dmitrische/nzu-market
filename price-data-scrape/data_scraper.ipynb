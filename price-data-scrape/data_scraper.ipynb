{
 "cells": [
  {
   "cell_type": "markdown",
   "id": "f7a8914f",
   "metadata": {},
   "source": [
    "# NZU price data scraping"
   ]
  },
  {
   "cell_type": "markdown",
   "id": "0a48018c",
   "metadata": {},
   "source": [
    "Load the necessary Python modules."
   ]
  },
  {
   "cell_type": "code",
   "execution_count": 1,
   "id": "4f4c1f97",
   "metadata": {},
   "outputs": [],
   "source": [
    "import requests\n",
    "from bs4 import BeautifulSoup\n",
    "import time\n",
    "import csv"
   ]
  },
  {
   "cell_type": "markdown",
   "id": "026b35ad",
   "metadata": {},
   "source": [
    "To scrape the data using a Python package called Beautiful Soup, we need to first use Python's `request` module to get the entire HTML source of a given website. We are interested in two URLs:\n",
    "```\n",
    "https://www.carbonnews.co.nz/tag.asp?tag=Jarden+NZ+Market+Report\n",
    "https://www.carbonnews.co.nz/tagarchive.asp?tag=Jarden+NZ+Market+Report\n",
    "```\n",
    "So we will parse them separately and store as two beautiful soups."
   ]
  },
  {
   "cell_type": "code",
   "execution_count": 2,
   "id": "fe203c3b",
   "metadata": {},
   "outputs": [],
   "source": [
    "url=\"https://www.carbonnews.co.nz/\"\n",
    "\n",
    "page = requests.get(url+\"tag.asp?tag=Jarden+NZ+Market+Report\")\n",
    "soup = BeautifulSoup(page.content, \"html.parser\")\n",
    "time.sleep(2)\n",
    "page = requests.get(url+\"tagarchive.asp?tag=Jarden+NZ+Market+Report\")\n",
    "soup2 = BeautifulSoup(page.content, \"html.parser\")"
   ]
  },
  {
   "cell_type": "markdown",
   "id": "f7c693a4",
   "metadata": {},
   "source": [
    "Using our knowledge of the underlying HTML structure, we can pick out the headline and summary elements for each story, in both soups, and store the extracted elements in lists."
   ]
  },
  {
   "cell_type": "code",
   "execution_count": 3,
   "id": "a5d3284a",
   "metadata": {},
   "outputs": [],
   "source": [
    "# Find all the h1, h2, and h3 headlines in first soup\n",
    "helements = soup.find_all([\"h1\",\"h2\",\"h3\"], class_=\"Headline\")\n",
    "# Find the h3 headlines in second soup\n",
    "helements+= soup2.find_all(\"h3\", class_=\"Headline\")\n",
    "\n",
    "# Find all the accompanying summaries\n",
    "pelements = soup.find_all(\"p\", class_=None ) # the h1 headline\n",
    "pelements+= soup.find_all(\"p\", class_=[\"StoryIntro\",\"StoryIntro_small\"]) # h2 and h3 headlines\n",
    "pelements+= soup2.find_all(\"p\", class_=\"StoryIntro_small\") # h3 headlines from the second soup\n",
    "\n",
    "# Find all h4 headlines in the second soup\n",
    "helements_arch = soup2.find_all([\"h4\"], class_=\"Headline\")"
   ]
  },
  {
   "cell_type": "markdown",
   "id": "0a49bfb9",
   "metadata": {},
   "source": [
    "Note that `helements` and `pelements` should be commensurate, while `helements_archive` should be much longer. "
   ]
  },
  {
   "cell_type": "code",
   "execution_count": 4,
   "id": "1da90a17",
   "metadata": {},
   "outputs": [
    {
     "name": "stdout",
     "output_type": "stream",
     "text": [
      "39 39\n",
      "2773\n",
      "<h4 class=\"Headline\" xstyle=\"font-weight:normal;\"><img alt=\"\" height=\"8\" src=\"images/arrow.gif\" width=\"8\"> 27 Jun 23  <a href=\"story.asp?storyID=28046\">MARKET LATEST: NZUs $41.00</a></img></h4>\n"
     ]
    }
   ],
   "source": [
    "print(len(helements), len(pelements))\n",
    "print(len(helements_arch))\n",
    "print(helements_arch[0])"
   ]
  },
  {
   "cell_type": "markdown",
   "id": "6f9d79fa",
   "metadata": {},
   "source": [
    "Let us now extract just the three relevant bits of text for each and every story: the headline string, the date string, and the href string."
   ]
  },
  {
   "cell_type": "code",
   "execution_count": 5,
   "id": "cb8f631f",
   "metadata": {},
   "outputs": [],
   "source": [
    "headlines = []; datestrings = []; hrefs = []\n",
    "\n",
    "# First loop over more recent headlines with summaries\n",
    "for i in range(len(helements)):\n",
    "    body = helements[i].find(\"a\")\n",
    "    headlines.append(body.text.strip())\n",
    "    hrefs.append(body.get(\"href\"))\n",
    "    # The date string is the first text before the ' - ' in the summary.\n",
    "    datestrings.append(pelements[i].text.strip().split(' - ')[0])\n",
    "        \n",
    "# Then loop over older archived headlines without summaries\n",
    "for h in helements_arch:\n",
    "    body = h.find(\"a\")\n",
    "    headline = body.text.strip()\n",
    "    headlines.append(headline)\n",
    "    hrefs.append(body.get(\"href\"))\n",
    "    # The date string is the text that's not part of the headline \n",
    "    datestrings.append(h.text.strip().replace(headline,''))"
   ]
  },
  {
   "cell_type": "markdown",
   "id": "faecda30",
   "metadata": {},
   "source": [
    "Check that the three lists are of the same length, and then print the first few and the last few entries in each list, just for illustration."
   ]
  },
  {
   "cell_type": "code",
   "execution_count": 6,
   "id": "e5bf633c",
   "metadata": {},
   "outputs": [
    {
     "name": "stdout",
     "output_type": "stream",
     "text": [
      "2812 2812 2812 \n",
      "\n",
      "Today 10:45am  |  MARKET LATEST: NZUs $65.50  |  story.asp?storyID=28514\n",
      "Monday  |  MARKET LATEST: NZUs $65.00  |  story.asp?storyID=28502\n",
      "Monday  |  TEN YEARS AGO  |  story.asp?storyID=28503\n",
      "Friday  |  MARKET LATEST: NZUs $62.50  |  story.asp?storyID=28490\n",
      "Thursday  |  MARKET LATEST: NZUs $61.40  |  story.asp?storyID=28480\n",
      "16 Aug 23  |  MARKET LATEST: NZUs $61.25  |  story.asp?storyID=28468\n",
      "15 Aug 23  |  MARKET LATEST: NZUs $60.50  |  story.asp?storyID=28455\n",
      "14 Aug 23  |  MARKET LATEST: NZUs $60.20  |  story.asp?storyID=28444\n",
      "\n",
      "13 Jun 08    |  Current carbon credits available  |  story.asp?storyID=1194\n",
      "13 Jun 08    |  Latest strip of CERs   2008  2012 vintage  indicative mid prices  |  story.asp?storyID=1193\n",
      "17 Jun 08    |  Current Carbon Credits Available  |  story.asp?storyID=1219\n",
      "17 Jun 08    |  Latest Strip of CERs   2008  2012 Vintage  Indicative Mid Prices  |  story.asp?storyID=1218\n",
      "17 Jun 08    |  Oil pushes carbon higher  |  story.asp?storyID=1217\n",
      "18 Jun 08    |  Current Carbon Credits Available  |  story.asp?storyID=1226\n",
      "18 Jun 08    |  Latest Strip of CERs   2008  2012 Vintage  Indicative Mid-Prices  |  story.asp?storyID=1225\n",
      "18 Jun 08    |  Carbon makes small gains  |  story.asp?storyID=1224\n"
     ]
    }
   ],
   "source": [
    "print(len(headlines), len(datestrings), len(hrefs),'\\n')\n",
    "\n",
    "for i in range(8):\n",
    "    print(datestrings[i],' | ',headlines[i],' | ',hrefs[i])\n",
    "\n",
    "print()\n",
    "\n",
    "for i in range(1,9):\n",
    "    print(datestrings[-i],' | ',headlines[-i],' | ',hrefs[-i])"
   ]
  },
  {
   "cell_type": "markdown",
   "id": "87bc4c6d",
   "metadata": {},
   "source": [
    "Convert date-strings to date objects using the `datetime` module. For later reuse, I implemented the conversion as a function called `strings2dates` inside the `functions.py` file."
   ]
  },
  {
   "cell_type": "code",
   "execution_count": 7,
   "id": "22008737",
   "metadata": {},
   "outputs": [],
   "source": [
    "from scraping_functions import strings2dates\n",
    "dates = strings2dates(datestrings)"
   ]
  },
  {
   "cell_type": "markdown",
   "id": "ca502103",
   "metadata": {},
   "source": [
    "We know that the price of NZUs is first reported on 14 May 2010, so we can discard older stories from our lists."
   ]
  },
  {
   "cell_type": "code",
   "execution_count": 8,
   "id": "0b2ce2c5",
   "metadata": {},
   "outputs": [],
   "source": [
    "from datetime import datetime\n",
    "while dates[-1] < datetime(2010,5,14).date():\n",
    "    dates.pop()\n",
    "    datestrings.pop()\n",
    "    headlines.pop()\n",
    "    hrefs.pop()"
   ]
  },
  {
   "cell_type": "markdown",
   "id": "aea3b51f",
   "metadata": {},
   "source": [
    "Print the date, headline, and hrefs for oldest few stories still  remaining in the list, just for illustration."
   ]
  },
  {
   "cell_type": "code",
   "execution_count": 9,
   "id": "8bf3e011",
   "metadata": {},
   "outputs": [
    {
     "name": "stdout",
     "output_type": "stream",
     "text": [
      "2010-05-14  |  NZUs have quiet week trading in the $17s  |  story.asp?storyID=4529\n",
      "2010-05-21  |  Carbon trading in the high teens  |  story.asp?storyID=4540\n",
      "2010-05-28  |  Carbon price consolidates  |  story.asp?storyID=4551\n",
      "2010-06-11  |  Carbon moves up to mid $17s  |  story.asp?storyID=4588\n",
      "2010-06-25  |  Demand builds in local market  |  story.asp?storyID=4623\n",
      "2010-07-02  |  Carbon price firm, but supply is short  |  story.asp?storyID=4643\n",
      "2010-07-09  |  Sellers few and far between  |  story.asp?storyID=4658\n",
      "2010-07-16  |  Market firm but drop on the way  |  story.asp?storyID=4675\n"
     ]
    }
   ],
   "source": [
    "for i in range(1,9):\n",
    "    print(dates[-i],' | ',headlines[-i],' | ',hrefs[-i])"
   ]
  },
  {
   "cell_type": "markdown",
   "id": "1368130e",
   "metadata": {},
   "source": [
    "Now print all the remaining stories' date, headline, and URL to a CSV file called `headline_scrape.csv`, with the stories ordered from oldest to latest."
   ]
  },
  {
   "cell_type": "code",
   "execution_count": 10,
   "id": "c36f019b",
   "metadata": {},
   "outputs": [],
   "source": [
    "url = 'https://www.carbonnews.co.nz/'\n",
    "with open('headline_scrape.csv', 'w', newline='') as file:    \n",
    "    writer = csv.writer(file)\n",
    "    writer.writerow(['date','headline','url'])\n",
    "    for i in range(1,1+len(dates)):\n",
    "        writer.writerow([dates[-i],headlines[-i],url+hrefs[-i]])        "
   ]
  },
  {
   "cell_type": "code",
   "execution_count": 11,
   "id": "de656c1c",
   "metadata": {
    "scrolled": true
   },
   "outputs": [],
   "source": [
    "from scraping_functions import parse_headline\n",
    "\n",
    "# Initialise all prices as None\n",
    "prices = [None for i in range(len(headlines))]\n",
    "\n",
    "# Parse headlines to get price values, except for one mistyped case.\n",
    "bad_date = datetime(2017,6,28).date() # headline with mistyped price\n",
    "for i in range(len(headlines)):\n",
    "    if dates[i] == bad_date:\n",
    "        prices[i] = 16.80\n",
    "    else:\n",
    "        prices[i] = parse_headline(headlines[i])"
   ]
  },
  {
   "cell_type": "code",
   "execution_count": 12,
   "id": "d20a1b90",
   "metadata": {},
   "outputs": [
    {
     "name": "stdout",
     "output_type": "stream",
     "text": [
      "1866\n",
      "422\n"
     ]
    }
   ],
   "source": [
    "print(len([price for price in prices if price is not None]))\n",
    "print(len([price for price in prices if price is None]))"
   ]
  },
  {
   "cell_type": "code",
   "execution_count": 13,
   "id": "b59f1f7d",
   "metadata": {},
   "outputs": [
    {
     "data": {
      "image/png": "[encoded data removed]",
      "text/plain": [
       "<Figure size 640x480 with 1 Axes>"
      ]
     },
     "metadata": {},
     "output_type": "display_data"
    }
   ],
   "source": [
    "import matplotlib.pyplot as plt        \n",
    "plt.plot(dates,prices, linestyle = 'dotted', marker='.')\n",
    "plt.show()"
   ]
  },
  {
   "cell_type": "markdown",
   "id": "2d471d6d",
   "metadata": {},
   "source": [
    "Now crawl through individual web pages for stories we haven't got the price for, and attempt extracting the price from the summary. Note that we pause for 2 seconds after scraping each page, so this cell should take at least 840 seconds (14 minutes) to run through about 420 pages."
   ]
  },
  {
   "cell_type": "code",
   "execution_count": 14,
   "id": "f61b984b",
   "metadata": {},
   "outputs": [],
   "source": [
    "from scraping_functions import parse_summary\n",
    "\n",
    "time0 = 0.0\n",
    "cutoff_date = datetime(2016,2,22).date()\n",
    "bad_date = datetime(2013,12,3).date()\n",
    "for i in range(len(prices)):\n",
    "    if prices[i] is None and dates[i] < cutoff_date and dates[i] != bad_date:\n",
    "        tdiff = time.time() - time0\n",
    "        if(tdiff < 2.0):\n",
    "            time.sleep(2.0-tdiff)\n",
    "        page = requests.get(url+hrefs[i])\n",
    "        time0 = time.time()\n",
    "        isoup = BeautifulSoup(page.content, \"html.parser\")\n",
    "        \n",
    "        # Extract the summary - the div element of class StoryFirstPara in soup\n",
    "        para = isoup.find(\"div\", class_=\"StoryFirstPara\").text.strip()\n",
    "        prices[i] = parse_summary(para)\n",
    "        if(prices[i] is None):\n",
    "            #print('Parsing 2nd para')\n",
    "            para = isoup.find(\"div\", class_=\"StorySecondPara\").text.strip()\n",
    "            prices[i] = parse_summary(para)        "
   ]
  },
  {
   "cell_type": "markdown",
   "id": "0ed627fd",
   "metadata": {},
   "source": [
    "Save the price data to CSV file with links to source articles."
   ]
  },
  {
   "cell_type": "code",
   "execution_count": 15,
   "id": "10199330",
   "metadata": {},
   "outputs": [],
   "source": [
    "url = 'https://www.carbonnews.co.nz/'\n",
    "with open('price_data.csv', 'w', newline='') as file:    \n",
    "    writer = csv.writer(file)\n",
    "    writer.writerow(['date','price','url'])\n",
    "    for i in range(1,1+len(dates)):\n",
    "        if(prices[-i] is not None):\n",
    "            writer.writerow([dates[-i],prices[-i],url+hrefs[-i]])"
   ]
  },
  {
   "cell_type": "markdown",
   "id": "543c7a40",
   "metadata": {},
   "source": [
    "Re-plot the data, and check the new number of price values in our list."
   ]
  },
  {
   "cell_type": "code",
   "execution_count": 16,
   "id": "477c7bad",
   "metadata": {},
   "outputs": [
    {
     "data": {
      "image/png": "[encoded data removed]",
      "text/plain": [
       "<Figure size 640x480 with 1 Axes>"
      ]
     },
     "metadata": {},
     "output_type": "display_data"
    }
   ],
   "source": [
    "plt.plot(dates,prices,linestyle = 'dotted', marker='.')\n",
    "plt.show()"
   ]
  },
  {
   "cell_type": "code",
   "execution_count": 17,
   "id": "6d754298",
   "metadata": {},
   "outputs": [
    {
     "name": "stdout",
     "output_type": "stream",
     "text": [
      "2144\n"
     ]
    }
   ],
   "source": [
    "print(len([price for price in prices if price is not None]))"
   ]
  },
  {
   "cell_type": "code",
   "execution_count": 18,
   "id": "7cc306c6",
   "metadata": {},
   "outputs": [],
   "source": [
    "page = requests.get('http://www.carbonnews.co.nz/story.asp?storyID=5808')\n",
    "isoup = BeautifulSoup(page.content, \"html.parser\")"
   ]
  },
  {
   "cell_type": "code",
   "execution_count": 117,
   "id": "82c60b29",
   "metadata": {},
   "outputs": [
    {
     "data": {
      "text/plain": [
       "(0.0, 92.845)"
      ]
     },
     "execution_count": 117,
     "metadata": {},
     "output_type": "execute_result"
    },
    {
     "data": {
      "image/png": "[encoded data removed]",
      "text/plain": [
       "<Figure size 640x480 with 1 Axes>"
      ]
     },
     "metadata": {},
     "output_type": "display_data"
    }
   ],
   "source": [
    "import pandas as pd\n",
    "import matplotlib.pyplot as plt \n",
    "from datetime import datetime\n",
    "import numpy as np\n",
    "\n",
    "my_df = pd.read_csv('price_data.csv', index_col='date', parse_dates=[0])\n",
    "mole_df = pd.read_csv('theecanmole_price_data.csv', index_col='date', parse_dates=[0])\n",
    "\n",
    "plt.style.use('ggplot')\n",
    "\n",
    "fig = plt.figure(1)\n",
    "\n",
    "#ax = plt.subplot(3,1,(2,3))\n",
    "ax = plt.subplot()\n",
    "my_df.plot(ax=ax, marker='.', linestyle='--')\n",
    "mole_df.plot(ax = ax).get_figure()\n",
    "ax.legend(['my scraped data','@theecanmole\\'s'])\n",
    "ax.set_ylabel('NZU price in NZD')\n",
    "ax.set_xlim(my_df.index.min(), my_df.index.max())\n",
    "ax.set_ylim(0)\n",
    "\n",
    "#ax2 = plt.subplot(3,1,(1))\n",
    "#fig.tight_layout()\n",
    "\n",
    "#mole_density = mole_df.index.year.value_counts()\n",
    "#my_density = my_df.index.year.value_counts()\n",
    "#mole_density.plot.bar(ax = ax2)\n",
    "#mole_df['year'] = mole_df.index.year\n",
    "#mole_df['year'].plot.hist(ax=ax2,bins=15)\n",
    "#my_df['year'] = my_df.index.year\n",
    "#my_df['year'].plot.hist(ax = ax2, alpha=0.5, bins = 23)\n",
    "#mole_df['year'] = mole_df.index.year\n",
    "#mole_df['year'].plot.hist(ax = ax2, alpha=0.5, bins = 23)\n",
    "#ax2.set_xlim(my_df['year'].min()+0., my_df['year'].max()+1)\n",
    "#ax2.set_xlim(2010,2023)\n",
    "#ax = fig.add_subplot(2,1,2)"
   ]
  },
  {
   "cell_type": "code",
   "execution_count": 116,
   "id": "929b7e88",
   "metadata": {},
   "outputs": [
    {
     "data": {
      "text/plain": [
       "array([222, 215, 212, 200, 190, 131,  90,  89,  77,  58,  55,  44,  43,\n",
       "        26])"
      ]
     },
     "execution_count": 116,
     "metadata": {},
     "output_type": "execute_result"
    }
   ],
   "source": [
    "a = mole_df.index.year.value_counts()\n",
    "a."
   ]
  },
  {
   "cell_type": "code",
   "execution_count": 118,
   "id": "ccc59302",
   "metadata": {},
   "outputs": [],
   "source": [
    "fig.savefig('nzu_price.svg')"
   ]
  },
  {
   "cell_type": "markdown",
   "id": "9dc99c0e",
   "metadata": {},
   "source": [
    "Ignore everything below..."
   ]
  },
  {
   "cell_type": "code",
   "execution_count": 17,
   "id": "3180166f",
   "metadata": {},
   "outputs": [],
   "source": [
    "def parse_stories(hrefs):\n",
    "    \n",
    "    import requests\n",
    "    from bs4 import BeautifulSoup\n",
    "    from datetime import datetime\n",
    "    \n",
    "    data = []\n",
    "    url_home=\"https://www.carbonnews.co.nz/\"\n",
    "    \n",
    "    for href in hrefs:\n",
    "        \n",
    "        url = url_home+href\n",
    "        page = requests.get(url)\n",
    "        soup = BeautifulSoup(page.content, \"html.parser\")\n",
    "        \n",
    "        # Process the heading, which should be the first 'h1' element in soup\n",
    "        h1elements = soup.find_all(\"h1\", class_=\"story\")\n",
    "        heading = h1elements[0].text.strip()\n",
    "        prices = [word.strip('$.') for word in heading.split() if word[0] == '$']\n",
    "        if len(prices) == 1:\n",
    "            price = prices[0]\n",
    "        else:\n",
    "            price = 'NaN'\n",
    "            if len(price) > 1:\n",
    "                print('WARNING: Heading contains multiple dollar values.')\n",
    "            else:\n",
    "                print('WARNING: Heading contains no dollar values.')        \n",
    "            \n",
    "        \n",
    "        # Process text snippet, which should be the only div element of class StoryFirstPara in soup\n",
    "        para = soup.find(\"div\", class_=\"StoryFirstPara\").text.strip()\n",
    "        prices = [word.strip('$.') for word in para.split() if word[0] == '$']\n",
    "        if price not in prices:\n",
    "            print('WARNING: Heading price not in story text snippet.')\n",
    "        \n",
    "        # Process the story date\n",
    "        h4elements = soup.find_all(\"h4\")\n",
    "        date = h4elements[0].text.strip()        \n",
    "        if date.split()[0] == 'Today':\n",
    "            date = datetime.today().strftime('%Y-%m-%d')\n",
    "        else:\n",
    "            date = ' '.join(date.split()[1:-1]) # strip weekday and time\n",
    "            date = datetime.strptime(date,'%d %b %y').strftime('%Y-%m-%d')\n",
    "        \n",
    "        data.append({'date':date, 'price':price, 'url':url})\n",
    "    \n",
    "    return data"
   ]
  },
  {
   "cell_type": "code",
   "execution_count": 21,
   "id": "58f191be",
   "metadata": {},
   "outputs": [
    {
     "name": "stdout",
     "output_type": "stream",
     "text": [
      "NZD carbon prices have had a dramatic slide this week, with NZUs posting a new low of $NZ7.60 before recovering to the current levels, around $8.30, Westpac reports.\n",
      "7.6\n",
      "Traded volumes have been reasonable, with some participants taking advantage of the intra-day volatility to trade.\n",
      "None\n"
     ]
    }
   ],
   "source": [
    "import requests\n",
    "from bs4 import BeautifulSoup\n",
    "from scraping_functions import parse_summary\n",
    "import time\n",
    "\n",
    "url=\"http://www.carbonnews.co.nz/story.asp?storyID=5808\"\n",
    "\n",
    "page = requests.get(url)\n",
    "isoup = BeautifulSoup(page.content, \"html.parser\")\n",
    "para1 = isoup.find(\"div\", class_=\"StoryFirstPara\").text.strip()\n",
    "print(para1)\n",
    "print(parse_summary(para1))\n",
    "time.sleep(2)\n",
    "para2 = isoup.find(\"div\", class_=\"StorySecondPara\").text.strip()\n",
    "print(para2)\n",
    "print(parse_summary(para2))"
   ]
  },
  {
   "cell_type": "code",
   "execution_count": null,
   "id": "1d70a265",
   "metadata": {},
   "outputs": [],
   "source": []
  }
 ],
 "metadata": {
  "kernelspec": {
   "display_name": "Python 3 (ipykernel)",
   "language": "python",
   "name": "python3"
  },
  "language_info": {
   "codemirror_mode": {
    "name": "ipython",
    "version": 3
   },
   "file_extension": ".py",
   "mimetype": "text/x-python",
   "name": "python",
   "nbconvert_exporter": "python",
   "pygments_lexer": "ipython3",
   "version": "3.10.12"
  },
  "toc": {
   "base_numbering": 1,
   "nav_menu": {},
   "number_sections": true,
   "sideBar": true,
   "skip_h1_title": true,
   "title_cell": "Table of Contents",
   "title_sidebar": "Contents",
   "toc_cell": false,
   "toc_position": {
    "height": "calc(100% - 180px)",
    "left": "10px",
    "top": "150px",
    "width": "165px"
   },
   "toc_section_display": true,
   "toc_window_display": false
  }
 },
 "nbformat": 4,
 "nbformat_minor": 5
}
